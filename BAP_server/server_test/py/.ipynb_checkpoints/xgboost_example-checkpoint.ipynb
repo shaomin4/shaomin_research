{
 "cells": [
  {
   "cell_type": "markdown",
   "metadata": {},
   "source": [
    "## xgboost example\n",
    "\n",
    "I evaluate performance of the entire boosting algorithm using the commonly benchmarked UCI Higgs dataset. This is a binary classification problem with 11M rows * 29 features and is a relatively time consuming problem in the single machine setting.\n",
    "\n",
    "The following Python script runs the XGBoost algorithm. It outputs the decreasing test error during boosting and measures the time taken by GPU and CPU algorithms.\n",
    "\n",
    "> refference :[Gradient Boosting, Decision Trees and XGBoost with CUDA](https://devblogs.nvidia.com/gradient-boosting-decision-trees-xgboost-cuda/)"
   ]
  },
  {
   "cell_type": "code",
   "execution_count": 5,
   "metadata": {},
   "outputs": [],
   "source": [
    "import csv\n",
    "import numpy as np\n",
    "import os.path\n",
    "import pandas\n",
    "import time\n",
    "import xgboost as xgb\n",
    "import sys\n",
    "if sys.version_info[0] >= 3:\n",
    "    from urllib.request import urlretrieve\n",
    "else:\n",
    "    from urllib import urlretrieve\n",
    "\n",
    "data_url = \"https://archive.ics.uci.edu/ml/machine-learning-databases/00280/HIGGS.csv.gz\"\n",
    "server_file_path = \"/data_lake/Higgs/\"\n",
    "dmatrix_train_filename = \"higgs_train.dmatrix\"\n",
    "dmatrix_test_filename = \"higgs_test.dmatrix\"\n",
    "csv_filename = \"HIGGS.csv.gz\"\n",
    "train_rows = 10500000\n",
    "test_rows = 500000\n",
    "num_round = 20\n",
    "\n",
    "plot = True"
   ]
  },
  {
   "cell_type": "code",
   "execution_count": 6,
   "metadata": {},
   "outputs": [],
   "source": [
    "# return xgboost dmatrix\n",
    "def load_higgs():\n",
    "    if os.path.isfile(server_file_path+dmatrix_train_filename) and os.path.isfile(server_file_path+dmatrix_test_filename):\n",
    "        dtrain = xgb.DMatrix(server_file_path+dmatrix_train_filename)\n",
    "        dtest = xgb.DMatrix(server_file_path+dmatrix_test_filename)\n",
    "        if dtrain.num_row() == train_rows and dtest.num_row() == test_rows:\n",
    "            print(\"Loading cached dmatrix...\")\n",
    "            return dtrain, dtest\n",
    "\n",
    "    if not os.path.isfile(server_file_path+csv_filename):\n",
    "        print(\"Downloading higgs file...\")\n",
    "        urlretrieve(data_url, csv_filename)\n",
    "        \n",
    "    print(\"Read train csv\")\n",
    "    df_higgs_train = pandas.read_csv(csv_filename, dtype=np.float32, \n",
    "                                     nrows=train_rows, header=None)\n",
    "    dtrain = xgb.DMatrix(df_higgs_train.ix[:, 1:29], df_higgs_train[0])\n",
    "    dtrain.save_binary(dmatrix_train_filename)\n",
    "    print(\"Read test csv\")\n",
    "    df_higgs_test = pandas.read_csv(csv_filename, dtype=np.float32, \n",
    "                                    skiprows=train_rows, nrows=test_rows, \n",
    "                                    header=None)\n",
    "    dtest = xgb.DMatrix(df_higgs_test.ix[:, 1:29], df_higgs_test[0])\n",
    "    dtest.save_binary(dmatrix_test_filename)\n",
    "\n",
    "    return dtrain, dtest"
   ]
  },
  {
   "cell_type": "code",
   "execution_count": 7,
   "metadata": {},
   "outputs": [
    {
     "name": "stdout",
     "output_type": "stream",
     "text": [
      "[04:25:15] 10500000x28 matrix with 294000000 entries loaded from higgs_train.dmatrix\n",
      "[04:25:15] 500000x28 matrix with 14000000 entries loaded from higgs_test.dmatrix\n",
      "Loading cached dmatrix...\n"
     ]
    }
   ],
   "source": [
    "dtrain, dtest = load_higgs()"
   ]
  },
  {
   "cell_type": "markdown",
   "metadata": {},
   "source": [
    "- 更多參數，請參考 [xgboost官網](https://xgboost.readthedocs.io/en/latest/parameter.html)"
   ]
  },
  {
   "cell_type": "code",
   "execution_count": 8,
   "metadata": {},
   "outputs": [],
   "source": [
    "# 設定 xgboost 使用變數，會依造tree_method的型態決定使不使用GPU\n",
    "param = {}\n",
    "param['objective'] = 'binary:logitraw'\n",
    "param['eval_metric'] = 'error'\n",
    "param['tree_method'] = ''  # 這裡先給空值，後續會依造使用需求加入\n",
    "param['silent'] = 1"
   ]
  },
  {
   "cell_type": "code",
   "execution_count": 9,
   "metadata": {},
   "outputs": [
    {
     "name": "stdout",
     "output_type": "stream",
     "text": [
      "Training with CPU ...\n",
      "[0]\ttest-error:0.52901\n",
      "[1]\ttest-error:0.40474\n",
      "[2]\ttest-error:0.36437\n",
      "[3]\ttest-error:0.34097\n",
      "[4]\ttest-error:0.33192\n",
      "[5]\ttest-error:0.32475\n",
      "[6]\ttest-error:0.31975\n",
      "[7]\ttest-error:0.31551\n",
      "[8]\ttest-error:0.31128\n",
      "[9]\ttest-error:0.30890\n",
      "[10]\ttest-error:0.30721\n",
      "[11]\ttest-error:0.30467\n",
      "[12]\ttest-error:0.30368\n",
      "[13]\ttest-error:0.30237\n",
      "[14]\ttest-error:0.30134\n",
      "[15]\ttest-error:0.29942\n",
      "[16]\ttest-error:0.29859\n",
      "[17]\ttest-error:0.29777\n",
      "[18]\ttest-error:0.29728\n",
      "[19]\ttest-error:0.29603\n",
      "CPU Training Time: 48.45937490463257 seconds\n"
     ]
    }
   ],
   "source": [
    "# 注意!!! 跑這裡會吃掉全部的核心，請確定機器夠力以及沒有其他使用者需要使用~\n",
    "print(\"Training with CPU ...\")\n",
    "param['tree_method'] = 'hist'\n",
    "#param['nthread'] = 8 # 限制使用核心數!\n",
    "tmp = time.time()\n",
    "cpu_res = {}\n",
    "xgb.train(param, dtrain, num_round, evals=[(dtest, \"test\")], \n",
    "          evals_result=cpu_res)\n",
    "cpu_time = time.time() - tmp\n",
    "print(\"CPU Training Time: %s seconds\" % (str(cpu_time)))"
   ]
  },
  {
   "cell_type": "code",
   "execution_count": 10,
   "metadata": {},
   "outputs": [
    {
     "name": "stdout",
     "output_type": "stream",
     "text": [
      "Training with GPU ...\n",
      "[0]\ttest-error:0.52901\n",
      "[1]\ttest-error:0.40467\n",
      "[2]\ttest-error:0.36466\n",
      "[3]\ttest-error:0.34148\n",
      "[4]\ttest-error:0.33198\n",
      "[5]\ttest-error:0.32424\n",
      "[6]\ttest-error:0.31899\n",
      "[7]\ttest-error:0.31344\n",
      "[8]\ttest-error:0.31128\n",
      "[9]\ttest-error:0.30854\n",
      "[10]\ttest-error:0.30660\n",
      "[11]\ttest-error:0.30462\n",
      "[12]\ttest-error:0.30286\n",
      "[13]\ttest-error:0.30152\n",
      "[14]\ttest-error:0.30048\n",
      "[15]\ttest-error:0.29926\n",
      "[16]\ttest-error:0.29858\n",
      "[17]\ttest-error:0.29682\n",
      "[18]\ttest-error:0.29616\n",
      "[19]\ttest-error:0.29560\n",
      "GPU Training Time: 4.971352815628052 seconds\n"
     ]
    }
   ],
   "source": [
    "print(\"Training with GPU ...\")\n",
    "param['tree_method'] = 'gpu_hist'\n",
    "tmp = time.time()\n",
    "gpu_res = {}\n",
    "xgb.train(param, dtrain, num_round, evals=[(dtest, \"test\")], \n",
    "          evals_result=gpu_res)\n",
    "gpu_time = time.time() - tmp\n",
    "print(\"GPU Training Time: %s seconds\" % (str(gpu_time)))"
   ]
  },
  {
   "cell_type": "code",
   "execution_count": 13,
   "metadata": {},
   "outputs": [
    {
     "data": {
      "image/png": "[encoded data removed]",
      "text/plain": [
       "<Figure size 432x288 with 1 Axes>"
      ]
     },
     "metadata": {
      "needs_background": "light"
     },
     "output_type": "display_data"
    }
   ],
   "source": [
    "import matplotlib.pyplot as plt\n",
    "min_error = min(min(gpu_res[\"test\"][param['eval_metric']]), \n",
    "                min(cpu_res[\"test\"][param['eval_metric']]))\n",
    "gpu_iteration_time = [x / (num_round * 1.0) * gpu_time for x in range(0, num_round)]\n",
    "cpu_iteration_time = [x / (num_round * 1.0) * cpu_time for x in range(0, num_round)]\n",
    "plt.plot(gpu_iteration_time, gpu_res['test'][param['eval_metric']],label='GPU:2080 ti * 1')\n",
    "plt.plot(cpu_iteration_time, cpu_res['test'][param['eval_metric']],label='CPU: Intel(R) Xeon(R) CPU E5-2650 v4 @ 2.20GHz (48 cores)')\n",
    "plt.legend()\n",
    "plt.xlabel('Time (s)')\n",
    "plt.ylabel('Test error')\n",
    "plt.axhline(y=min_error, color='r', linestyle='dashed')\n",
    "plt.margins(x=0)\n",
    "plt.ylim((0.23, 0.35))\n",
    "plt.show()"
   ]
  },
  {
   "cell_type": "code",
   "execution_count": 14,
   "metadata": {},
   "outputs": [],
   "source": [
    " plt.show()"
   ]
  }
 ],
 "metadata": {
  "kernelspec": {
   "display_name": "Python 3",
   "language": "python",
   "name": "python3"
  },
  "language_info": {
   "codemirror_mode": {
    "name": "ipython",
    "version": 3
   },
   "file_extension": ".py",
   "mimetype": "text/x-python",
   "name": "python",
   "nbconvert_exporter": "python",
   "pygments_lexer": "ipython3",
   "version": "3.6.8"
  }
 },
 "nbformat": 4,
 "nbformat_minor": 4
}
